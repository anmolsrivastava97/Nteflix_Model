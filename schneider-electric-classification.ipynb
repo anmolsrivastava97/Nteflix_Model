{
 "cells": [
  {
   "cell_type": "code",
   "execution_count": 1,
   "metadata": {
    "_cell_guid": "b1076dfc-b9ad-4769-8c92-a6c4dae69d19",
    "_uuid": "8f2839f25d086af736a60e9eeb907d3b93b6e0e5",
    "execution": {
     "iopub.execute_input": "2021-05-28T22:44:52.661210Z",
     "iopub.status.busy": "2021-05-28T22:44:52.660825Z",
     "iopub.status.idle": "2021-05-28T22:44:52.689580Z",
     "shell.execute_reply": "2021-05-28T22:44:52.688632Z",
     "shell.execute_reply.started": "2021-05-28T22:44:52.661130Z"
    }
   },
   "outputs": [
    {
     "name": "stdout",
     "output_type": "stream",
     "text": [
      "/kaggle/input/classified-netflix-movies-data/classified_data.csv\n"
     ]
    }
   ],
   "source": [
    "# This Python 3 environment comes with many helpful analytics libraries installed\n",
    "# It is defined by the kaggle/python Docker image: https://github.com/kaggle/docker-python\n",
    "# For example, here's several helpful packages to load\n",
    "\n",
    "import numpy as np # linear algebra\n",
    "import pandas as pd # data processing, CSV file I/O (e.g. pd.read_csv)\n",
    "import matplotlib.pyplot as plt\n",
    "\n",
    "# Input data files are available in the read-only \"../input/\" directory\n",
    "# For example, running this (by clicking run or pressing Shift+Enter) will list all files under the input directory\n",
    "\n",
    "import os\n",
    "for dirname, _, filenames in os.walk('/kaggle/input'):\n",
    "    for filename in filenames:\n",
    "        print(os.path.join(dirname, filename))\n",
    "\n",
    "# You can write up to 20GB to the current directory (/kaggle/working/) that gets preserved as output when you create a version using \"Save & Run All\" \n",
    "# You can also write temporary files to /kaggle/temp/, but they won't be saved outside of the current session"
   ]
  },
  {
   "cell_type": "code",
   "execution_count": 2,
   "metadata": {
    "execution": {
     "iopub.execute_input": "2021-05-28T22:44:52.765365Z",
     "iopub.status.busy": "2021-05-28T22:44:52.765124Z",
     "iopub.status.idle": "2021-05-28T22:44:52.870235Z",
     "shell.execute_reply": "2021-05-28T22:44:52.869285Z",
     "shell.execute_reply.started": "2021-05-28T22:44:52.765342Z"
    }
   },
   "outputs": [
    {
     "data": {
      "text/html": [
       "<div>\n",
       "<style scoped>\n",
       "    .dataframe tbody tr th:only-of-type {\n",
       "        vertical-align: middle;\n",
       "    }\n",
       "\n",
       "    .dataframe tbody tr th {\n",
       "        vertical-align: top;\n",
       "    }\n",
       "\n",
       "    .dataframe thead th {\n",
       "        text-align: right;\n",
       "    }\n",
       "</style>\n",
       "<table border=\"1\" class=\"dataframe\">\n",
       "  <thead>\n",
       "    <tr style=\"text-align: right;\">\n",
       "      <th></th>\n",
       "      <th>Unnamed: 0</th>\n",
       "      <th>show_id</th>\n",
       "      <th>type</th>\n",
       "      <th>title</th>\n",
       "      <th>director</th>\n",
       "      <th>cast</th>\n",
       "      <th>country</th>\n",
       "      <th>date_added</th>\n",
       "      <th>release_year</th>\n",
       "      <th>rating</th>\n",
       "      <th>duration</th>\n",
       "      <th>listed_in</th>\n",
       "      <th>description</th>\n",
       "      <th>cluster</th>\n",
       "    </tr>\n",
       "  </thead>\n",
       "  <tbody>\n",
       "    <tr>\n",
       "      <th>0</th>\n",
       "      <td>0</td>\n",
       "      <td>s1</td>\n",
       "      <td>TV Show</td>\n",
       "      <td>3%</td>\n",
       "      <td>NaN</td>\n",
       "      <td>João Miguel, Bianca Comparato, Michel Gomes, R...</td>\n",
       "      <td>Brazil</td>\n",
       "      <td>August 14, 2020</td>\n",
       "      <td>2020</td>\n",
       "      <td>TV-MA</td>\n",
       "      <td>4 Seasons</td>\n",
       "      <td>International TV Shows, TV Dramas, TV Sci-Fi &amp;...</td>\n",
       "      <td>In a future where the elite inhabit an island ...</td>\n",
       "      <td>7</td>\n",
       "    </tr>\n",
       "    <tr>\n",
       "      <th>1</th>\n",
       "      <td>1</td>\n",
       "      <td>s2</td>\n",
       "      <td>Movie</td>\n",
       "      <td>7:19</td>\n",
       "      <td>Jorge Michel Grau</td>\n",
       "      <td>Demián Bichir, Héctor Bonilla, Oscar Serrano, ...</td>\n",
       "      <td>Mexico</td>\n",
       "      <td>December 23, 2016</td>\n",
       "      <td>2016</td>\n",
       "      <td>TV-MA</td>\n",
       "      <td>93 min</td>\n",
       "      <td>Dramas, International Movies</td>\n",
       "      <td>After a devastating earthquake hits Mexico Cit...</td>\n",
       "      <td>11</td>\n",
       "    </tr>\n",
       "    <tr>\n",
       "      <th>2</th>\n",
       "      <td>2</td>\n",
       "      <td>s3</td>\n",
       "      <td>Movie</td>\n",
       "      <td>23:59</td>\n",
       "      <td>Gilbert Chan</td>\n",
       "      <td>Tedd Chan, Stella Chung, Henley Hii, Lawrence ...</td>\n",
       "      <td>Singapore</td>\n",
       "      <td>December 20, 2018</td>\n",
       "      <td>2011</td>\n",
       "      <td>R</td>\n",
       "      <td>78 min</td>\n",
       "      <td>Horror Movies, International Movies</td>\n",
       "      <td>When an army recruit is found dead, his fellow...</td>\n",
       "      <td>18</td>\n",
       "    </tr>\n",
       "    <tr>\n",
       "      <th>3</th>\n",
       "      <td>3</td>\n",
       "      <td>s4</td>\n",
       "      <td>Movie</td>\n",
       "      <td>9</td>\n",
       "      <td>Shane Acker</td>\n",
       "      <td>Elijah Wood, John C. Reilly, Jennifer Connelly...</td>\n",
       "      <td>United States</td>\n",
       "      <td>November 16, 2017</td>\n",
       "      <td>2009</td>\n",
       "      <td>PG-13</td>\n",
       "      <td>80 min</td>\n",
       "      <td>Action &amp; Adventure, Independent Movies, Sci-Fi...</td>\n",
       "      <td>In a postapocalyptic world, rag-doll robots hi...</td>\n",
       "      <td>14</td>\n",
       "    </tr>\n",
       "    <tr>\n",
       "      <th>4</th>\n",
       "      <td>4</td>\n",
       "      <td>s5</td>\n",
       "      <td>Movie</td>\n",
       "      <td>21</td>\n",
       "      <td>Robert Luketic</td>\n",
       "      <td>Jim Sturgess, Kevin Spacey, Kate Bosworth, Aar...</td>\n",
       "      <td>United States</td>\n",
       "      <td>January 1, 2020</td>\n",
       "      <td>2008</td>\n",
       "      <td>PG-13</td>\n",
       "      <td>123 min</td>\n",
       "      <td>Dramas</td>\n",
       "      <td>A brilliant group of students become card-coun...</td>\n",
       "      <td>3</td>\n",
       "    </tr>\n",
       "  </tbody>\n",
       "</table>\n",
       "</div>"
      ],
      "text/plain": [
       "   Unnamed: 0 show_id     type  title           director  \\\n",
       "0           0      s1  TV Show     3%                NaN   \n",
       "1           1      s2    Movie   7:19  Jorge Michel Grau   \n",
       "2           2      s3    Movie  23:59       Gilbert Chan   \n",
       "3           3      s4    Movie      9        Shane Acker   \n",
       "4           4      s5    Movie     21     Robert Luketic   \n",
       "\n",
       "                                                cast        country  \\\n",
       "0  João Miguel, Bianca Comparato, Michel Gomes, R...         Brazil   \n",
       "1  Demián Bichir, Héctor Bonilla, Oscar Serrano, ...         Mexico   \n",
       "2  Tedd Chan, Stella Chung, Henley Hii, Lawrence ...      Singapore   \n",
       "3  Elijah Wood, John C. Reilly, Jennifer Connelly...  United States   \n",
       "4  Jim Sturgess, Kevin Spacey, Kate Bosworth, Aar...  United States   \n",
       "\n",
       "          date_added  release_year rating   duration  \\\n",
       "0    August 14, 2020          2020  TV-MA  4 Seasons   \n",
       "1  December 23, 2016          2016  TV-MA     93 min   \n",
       "2  December 20, 2018          2011      R     78 min   \n",
       "3  November 16, 2017          2009  PG-13     80 min   \n",
       "4    January 1, 2020          2008  PG-13    123 min   \n",
       "\n",
       "                                           listed_in  \\\n",
       "0  International TV Shows, TV Dramas, TV Sci-Fi &...   \n",
       "1                       Dramas, International Movies   \n",
       "2                Horror Movies, International Movies   \n",
       "3  Action & Adventure, Independent Movies, Sci-Fi...   \n",
       "4                                             Dramas   \n",
       "\n",
       "                                         description  cluster  \n",
       "0  In a future where the elite inhabit an island ...        7  \n",
       "1  After a devastating earthquake hits Mexico Cit...       11  \n",
       "2  When an army recruit is found dead, his fellow...       18  \n",
       "3  In a postapocalyptic world, rag-doll robots hi...       14  \n",
       "4  A brilliant group of students become card-coun...        3  "
      ]
     },
     "execution_count": 2,
     "metadata": {},
     "output_type": "execute_result"
    }
   ],
   "source": [
    "data = pd.read_csv('/kaggle/input/classified-netflix-movies-data/classified_data.csv')\n",
    "data.head()"
   ]
  },
  {
   "cell_type": "code",
   "execution_count": 3,
   "metadata": {
    "execution": {
     "iopub.execute_input": "2021-05-28T22:44:52.872076Z",
     "iopub.status.busy": "2021-05-28T22:44:52.871745Z",
     "iopub.status.idle": "2021-05-28T22:44:52.883896Z",
     "shell.execute_reply": "2021-05-28T22:44:52.882984Z",
     "shell.execute_reply.started": "2021-05-28T22:44:52.872041Z"
    }
   },
   "outputs": [
    {
     "name": "stdout",
     "output_type": "stream",
     "text": [
      "X: (7787,)\n",
      "y: (7787, 20)\n"
     ]
    }
   ],
   "source": [
    "# X and Y for training\n",
    "X = data.description.values\n",
    "y = pd.get_dummies(data.cluster).values\n",
    "\n",
    "print('X: {}'.format(X.shape))\n",
    "print('y: {}'.format(y.shape))"
   ]
  },
  {
   "cell_type": "markdown",
   "metadata": {},
   "source": [
    "\n",
    "# Text - Pre-processing and Model Building"
   ]
  },
  {
   "cell_type": "code",
   "execution_count": 54,
   "metadata": {
    "execution": {
     "iopub.execute_input": "2021-05-29T00:35:48.040709Z",
     "iopub.status.busy": "2021-05-29T00:35:48.040359Z",
     "iopub.status.idle": "2021-05-29T00:35:48.045692Z",
     "shell.execute_reply": "2021-05-29T00:35:48.044886Z",
     "shell.execute_reply.started": "2021-05-29T00:35:48.040676Z"
    }
   },
   "outputs": [],
   "source": [
    "from keras.preprocessing.text import Tokenizer\n",
    "from keras.preprocessing.sequence import pad_sequences\n",
    "from sklearn.preprocessing import MinMaxScaler\n",
    "\n",
    "from time import time\n",
    "import keras.backend as K\n",
    "from keras.layers import Dense, Input, LSTM, GRU, Dropout, SimpleRNN, Embedding\n",
    "from keras.models import Model\n",
    "from keras.optimizers import SGD, RMSprop, Adam\n",
    "from keras import callbacks"
   ]
  },
  {
   "cell_type": "code",
   "execution_count": 5,
   "metadata": {
    "execution": {
     "iopub.execute_input": "2021-05-28T22:44:58.248394Z",
     "iopub.status.busy": "2021-05-28T22:44:58.248082Z",
     "iopub.status.idle": "2021-05-28T22:44:58.831281Z",
     "shell.execute_reply": "2021-05-28T22:44:58.830411Z",
     "shell.execute_reply.started": "2021-05-28T22:44:58.248359Z"
    }
   },
   "outputs": [],
   "source": [
    "# Text Pre-processing\n",
    "token_data = data.description\n",
    "maxlen = 1500 # Max number of frequently occuring words\n",
    "training_samples = 800\n",
    "validation_samples = 450\n",
    "max_words = 10000\n",
    "\n",
    "tokenizer = Tokenizer(num_words=max_words)\n",
    "tokenizer.fit_on_texts(token_data)\n",
    "seq = tokenizer.texts_to_sequences(token_data)\n",
    "word_index = tokenizer.word_index\n",
    "seq_data = pad_sequences(seq, maxlen=maxlen)\n",
    "\n",
    "# Scaling of Data\n",
    "scaler = MinMaxScaler()\n",
    "seq_data = scaler.fit_transform(seq_data)"
   ]
  },
  {
   "cell_type": "code",
   "execution_count": 6,
   "metadata": {
    "execution": {
     "iopub.execute_input": "2021-05-28T22:44:58.833129Z",
     "iopub.status.busy": "2021-05-28T22:44:58.832623Z",
     "iopub.status.idle": "2021-05-28T22:44:58.880441Z",
     "shell.execute_reply": "2021-05-28T22:44:58.879682Z",
     "shell.execute_reply.started": "2021-05-28T22:44:58.833089Z"
    }
   },
   "outputs": [],
   "source": [
    "from sklearn.model_selection import train_test_split"
   ]
  },
  {
   "cell_type": "code",
   "execution_count": 7,
   "metadata": {
    "execution": {
     "iopub.execute_input": "2021-05-28T22:44:58.882056Z",
     "iopub.status.busy": "2021-05-28T22:44:58.881699Z",
     "iopub.status.idle": "2021-05-28T22:44:58.927222Z",
     "shell.execute_reply": "2021-05-28T22:44:58.926226Z",
     "shell.execute_reply.started": "2021-05-28T22:44:58.882008Z"
    }
   },
   "outputs": [
    {
     "name": "stdout",
     "output_type": "stream",
     "text": [
      "Training Set:- X_train: (6229, 1500) , y_train: (6229, 20)\n",
      "Validation Set:- X_val: (779, 1500) , y_val: (779, 20)\n",
      "Test Set:- X_test: (779, 1500) , y_test: (779, 20)\n"
     ]
    }
   ],
   "source": [
    "# Splitting of Data\n",
    "X_train, X_test, y_train, y_test = train_test_split(seq_data, y, test_size=0.2, random_state=56)\n",
    "X_val, X_test, y_val, y_test = train_test_split(X_test, y_test, test_size=0.5, random_state=56)\n",
    "\n",
    "print(\"Training Set:- X_train: {} , y_train: {}\".format(X_train.shape, y_train.shape))\n",
    "print(\"Validation Set:- X_val: {} , y_val: {}\".format(X_val.shape, y_val.shape))\n",
    "print(\"Test Set:- X_test: {} , y_test: {}\".format(X_test.shape, y_test.shape))"
   ]
  },
  {
   "cell_type": "markdown",
   "metadata": {},
   "source": [
    "##  DNN Model"
   ]
  },
  {
   "cell_type": "code",
   "execution_count": 8,
   "metadata": {
    "execution": {
     "iopub.execute_input": "2021-05-28T22:44:58.929046Z",
     "iopub.status.busy": "2021-05-28T22:44:58.928541Z",
     "iopub.status.idle": "2021-05-28T22:44:58.933510Z",
     "shell.execute_reply": "2021-05-28T22:44:58.932401Z",
     "shell.execute_reply.started": "2021-05-28T22:44:58.929004Z"
    }
   },
   "outputs": [],
   "source": [
    "from sklearn.metrics import classification_report, confusion_matrix\n",
    "from keras.utils import plot_model"
   ]
  },
  {
   "cell_type": "code",
   "execution_count": 9,
   "metadata": {
    "execution": {
     "iopub.execute_input": "2021-05-28T22:44:58.937379Z",
     "iopub.status.busy": "2021-05-28T22:44:58.936989Z",
     "iopub.status.idle": "2021-05-28T22:44:58.943282Z",
     "shell.execute_reply": "2021-05-28T22:44:58.942461Z",
     "shell.execute_reply.started": "2021-05-28T22:44:58.937347Z"
    }
   },
   "outputs": [],
   "source": [
    "# Baseline Model Hyper-parameters\n",
    "\n",
    "BATCH_SIZE = 128\n",
    "b_optimizer = 'rmsprop'\n",
    "EPOCHS = 50\n",
    "size = [X_train.shape[-1], 1000, 500, 20]"
   ]
  },
  {
   "cell_type": "code",
   "execution_count": 10,
   "metadata": {
    "execution": {
     "iopub.execute_input": "2021-05-28T22:44:58.945452Z",
     "iopub.status.busy": "2021-05-28T22:44:58.944937Z",
     "iopub.status.idle": "2021-05-28T22:44:58.960921Z",
     "shell.execute_reply": "2021-05-28T22:44:58.959739Z",
     "shell.execute_reply.started": "2021-05-28T22:44:58.945412Z"
    }
   },
   "outputs": [],
   "source": [
    "class DNNModel:\n",
    "    \"\"\"\n",
    "    A deep neural network class class to create custom dnn architecture which could be trained and evaluated\n",
    "    on any dataset.\n",
    "    \"\"\"\n",
    "    \n",
    "    def __init__(self, batch_size, epochs, size, optimizer, loss, activation_fn):\n",
    "        \n",
    "        \"\"\"\n",
    "        Parameters\n",
    "        ----------\n",
    "        \n",
    "        batch_size: size of a batch for training data\n",
    "        epochs:     number of epochs to train for\n",
    "        size:       list of output dimesnions for each layer\n",
    "        optimizer:  an optimizer algorithm could be optimizer object or string\n",
    "        loss:       loss function to be used for optimization\n",
    "        activation_fn: activation function for hidden layers\n",
    "        \"\"\"\n",
    "        \n",
    "        self.batch_size = batch_size\n",
    "        self.epochs = epochs\n",
    "        self.history = None\n",
    "        self.loss = loss\n",
    "        \n",
    "        # Model Building\n",
    "        n_layers = len(size) - 1\n",
    "\n",
    "        # Input Layer\n",
    "        input_data = Input(shape = (size[0], ), name='input')\n",
    "        x = input_data\n",
    "\n",
    "        # Hidden Layers\n",
    "        for n in range(n_layers - 1):\n",
    "            x = Dense(size[n+1], kernel_initializer = 'glorot_uniform', activation = activation_fn, name='dense_layer_{}'.format(n))(x)\n",
    "            if n != n_layers - 2:\n",
    "                x = Dropout(rate = 0.5, name='dropout_layer_{}'.format(n))(x)\n",
    "\n",
    "        # Latent Layer\n",
    "        out = Dense(size[-1], name='Output_layer', activation='softmax')(x)\n",
    "        \n",
    "        self.b_model = Model(inputs=input_data, outputs=out, name='basline_model')\n",
    "        self.b_model.compile(optimizer=optimizer, loss=self.loss)\n",
    "        \n",
    "    def fit(self, training_data, validation_data, verbose):\n",
    "        \"\"\"\n",
    "        This function fits the data to model.\n",
    "        \"\"\"\n",
    "        \n",
    "        self.history = self.b_model.fit(x=training_data[0], y=training_data[1],\n",
    "                                  validation_data = validation_data, epochs = self.epochs, batch_size = self.batch_size,\n",
    "                                  verbose = verbose)\n",
    "        \n",
    "    def plot_training(self):\n",
    "        \"\"\"\n",
    "        Plots the progression of training and validation loss over the epochs\n",
    "        \"\"\"\n",
    "        fig, ax = plt.subplots(1,1, dpi = 100)\n",
    "        ax.plot(self.history.history['loss'], label='Training Loss')\n",
    "        ax.plot(self.history.history['val_loss'], label='Validation Loss')\n",
    "        ax.set_xlabel('Epochs')\n",
    "        ax.set_ylabel(str(self.loss))\n",
    "        plt.legend()\n",
    "        plt.plot()\n",
    "        \n",
    "    def evaluation(self, test_data):\n",
    "        \"\"\"\n",
    "        Evaluates the resulting model on test data and prints relevant information\n",
    "        \"\"\"\n",
    "        \n",
    "        X_test = test_data[0]\n",
    "        y_test = test_data[1]\n",
    "        \n",
    "        y_pred_prob = self.b_model.predict(X_test)\n",
    "        y_pred = np.argmax(y_pred_prob, axis=1)\n",
    "        eval_metric = self.b_model.evaluate(x=X_test, y=y_test)\n",
    "        \n",
    "        print(classification_report(np.argmax(y_test, axis=1), y_pred))\n",
    "        \n",
    "        return (y_pred_prob, y_pred, eval_metric)\n",
    "    \n",
    "    def plot_model(self):\n",
    "        plot_model(self.b_model, to_file='baseline.png', show_shapes=True)\n",
    "        \n",
    "        \n",
    "        "
   ]
  },
  {
   "cell_type": "code",
   "execution_count": 11,
   "metadata": {
    "execution": {
     "iopub.execute_input": "2021-05-28T22:44:58.962621Z",
     "iopub.status.busy": "2021-05-28T22:44:58.962195Z",
     "iopub.status.idle": "2021-05-28T22:45:01.099710Z",
     "shell.execute_reply": "2021-05-28T22:45:01.098856Z",
     "shell.execute_reply.started": "2021-05-28T22:44:58.962585Z"
    }
   },
   "outputs": [],
   "source": [
    "dnn_model = DNNModel(batch_size=BATCH_SIZE, epochs=EPOCHS, size=size, optimizer=b_optimizer, loss='categorical_crossentropy', activation_fn='relu')"
   ]
  },
  {
   "cell_type": "code",
   "execution_count": 12,
   "metadata": {
    "execution": {
     "iopub.execute_input": "2021-05-28T22:45:01.101319Z",
     "iopub.status.busy": "2021-05-28T22:45:01.100980Z",
     "iopub.status.idle": "2021-05-28T22:45:01.497297Z",
     "shell.execute_reply": "2021-05-28T22:45:01.496204Z",
     "shell.execute_reply.started": "2021-05-28T22:45:01.101284Z"
    }
   },
   "outputs": [],
   "source": [
    "dnn_model.plot_model()"
   ]
  },
  {
   "cell_type": "code",
   "execution_count": 13,
   "metadata": {
    "execution": {
     "iopub.execute_input": "2021-05-28T22:45:01.499192Z",
     "iopub.status.busy": "2021-05-28T22:45:01.498839Z",
     "iopub.status.idle": "2021-05-28T22:45:01.511608Z",
     "shell.execute_reply": "2021-05-28T22:45:01.510758Z",
     "shell.execute_reply.started": "2021-05-28T22:45:01.499150Z"
    }
   },
   "outputs": [
    {
     "data": {
      "image/png": "[encoded data removed]",
      "text/plain": [
       "<IPython.core.display.Image object>"
      ]
     },
     "execution_count": 13,
     "metadata": {},
     "output_type": "execute_result"
    }
   ],
   "source": [
    "from IPython.display import Image\n",
    "Image(filename='baseline.png')"
   ]
  },
  {
   "cell_type": "code",
   "execution_count": 14,
   "metadata": {
    "execution": {
     "iopub.execute_input": "2021-05-28T22:45:01.513479Z",
     "iopub.status.busy": "2021-05-28T22:45:01.512979Z",
     "iopub.status.idle": "2021-05-28T22:45:13.561946Z",
     "shell.execute_reply": "2021-05-28T22:45:13.561077Z",
     "shell.execute_reply.started": "2021-05-28T22:45:01.513348Z"
    }
   },
   "outputs": [
    {
     "name": "stdout",
     "output_type": "stream",
     "text": [
      "Epoch 1/50\n",
      "49/49 [==============================] - 2s 14ms/step - loss: 2.1539 - val_loss: 0.7414\n",
      "Epoch 2/50\n",
      "49/49 [==============================] - 0s 4ms/step - loss: 0.6897 - val_loss: 0.4852\n",
      "Epoch 3/50\n",
      "49/49 [==============================] - 0s 5ms/step - loss: 0.4867 - val_loss: 0.3872\n",
      "Epoch 4/50\n",
      "49/49 [==============================] - 0s 6ms/step - loss: 0.3964 - val_loss: 0.3605\n",
      "Epoch 5/50\n",
      "49/49 [==============================] - 0s 5ms/step - loss: 0.3464 - val_loss: 0.3331\n",
      "Epoch 6/50\n",
      "49/49 [==============================] - 0s 5ms/step - loss: 0.3442 - val_loss: 0.3435\n",
      "Epoch 7/50\n",
      "49/49 [==============================] - 0s 5ms/step - loss: 0.3095 - val_loss: 0.2839\n",
      "Epoch 8/50\n",
      "49/49 [==============================] - 0s 4ms/step - loss: 0.2901 - val_loss: 0.2433\n",
      "Epoch 9/50\n",
      "49/49 [==============================] - 0s 4ms/step - loss: 0.2693 - val_loss: 0.2876\n",
      "Epoch 10/50\n",
      "49/49 [==============================] - 0s 4ms/step - loss: 0.2579 - val_loss: 0.3296\n",
      "Epoch 11/50\n",
      "49/49 [==============================] - 0s 4ms/step - loss: 0.2463 - val_loss: 0.2291\n",
      "Epoch 12/50\n",
      "49/49 [==============================] - 0s 4ms/step - loss: 0.2385 - val_loss: 0.2411\n",
      "Epoch 13/50\n",
      "49/49 [==============================] - 0s 4ms/step - loss: 0.2285 - val_loss: 0.2225\n",
      "Epoch 14/50\n",
      "49/49 [==============================] - 0s 4ms/step - loss: 0.2243 - val_loss: 0.2473\n",
      "Epoch 15/50\n",
      "49/49 [==============================] - 0s 4ms/step - loss: 0.2142 - val_loss: 0.2064\n",
      "Epoch 16/50\n",
      "49/49 [==============================] - 0s 4ms/step - loss: 0.2084 - val_loss: 0.2054\n",
      "Epoch 17/50\n",
      "49/49 [==============================] - 0s 4ms/step - loss: 0.2129 - val_loss: 0.2508\n",
      "Epoch 18/50\n",
      "49/49 [==============================] - 0s 4ms/step - loss: 0.1936 - val_loss: 0.2427\n",
      "Epoch 19/50\n",
      "49/49 [==============================] - 0s 4ms/step - loss: 0.1742 - val_loss: 0.2577\n",
      "Epoch 20/50\n",
      "49/49 [==============================] - 0s 4ms/step - loss: 0.1868 - val_loss: 0.2061\n",
      "Epoch 21/50\n",
      "49/49 [==============================] - 0s 4ms/step - loss: 0.1736 - val_loss: 0.2059\n",
      "Epoch 22/50\n",
      "49/49 [==============================] - 0s 4ms/step - loss: 0.1639 - val_loss: 0.2460\n",
      "Epoch 23/50\n",
      "49/49 [==============================] - 0s 6ms/step - loss: 0.1559 - val_loss: 0.2047\n",
      "Epoch 24/50\n",
      "49/49 [==============================] - 0s 5ms/step - loss: 0.1645 - val_loss: 0.2105\n",
      "Epoch 25/50\n",
      "49/49 [==============================] - 0s 4ms/step - loss: 0.1542 - val_loss: 0.2087\n",
      "Epoch 26/50\n",
      "49/49 [==============================] - 0s 4ms/step - loss: 0.1400 - val_loss: 0.2227\n",
      "Epoch 27/50\n",
      "49/49 [==============================] - 0s 4ms/step - loss: 0.1494 - val_loss: 0.1923\n",
      "Epoch 28/50\n",
      "49/49 [==============================] - 0s 4ms/step - loss: 0.1412 - val_loss: 0.1974\n",
      "Epoch 29/50\n",
      "49/49 [==============================] - 0s 4ms/step - loss: 0.1493 - val_loss: 0.2033\n",
      "Epoch 30/50\n",
      "49/49 [==============================] - 0s 4ms/step - loss: 0.1471 - val_loss: 0.2183\n",
      "Epoch 31/50\n",
      "49/49 [==============================] - 0s 4ms/step - loss: 0.1341 - val_loss: 0.2442\n",
      "Epoch 32/50\n",
      "49/49 [==============================] - 0s 4ms/step - loss: 0.1295 - val_loss: 0.1971\n",
      "Epoch 33/50\n",
      "49/49 [==============================] - 0s 4ms/step - loss: 0.1156 - val_loss: 0.2083\n",
      "Epoch 34/50\n",
      "49/49 [==============================] - 0s 4ms/step - loss: 0.1260 - val_loss: 0.2386\n",
      "Epoch 35/50\n",
      "49/49 [==============================] - 0s 4ms/step - loss: 0.1182 - val_loss: 0.2252\n",
      "Epoch 36/50\n",
      "49/49 [==============================] - 0s 4ms/step - loss: 0.1032 - val_loss: 0.2083\n",
      "Epoch 37/50\n",
      "49/49 [==============================] - 0s 4ms/step - loss: 0.1068 - val_loss: 0.2583\n",
      "Epoch 38/50\n",
      "49/49 [==============================] - 0s 4ms/step - loss: 0.1144 - val_loss: 0.1934\n",
      "Epoch 39/50\n",
      "49/49 [==============================] - 0s 4ms/step - loss: 0.1021 - val_loss: 0.2106\n",
      "Epoch 40/50\n",
      "49/49 [==============================] - 0s 4ms/step - loss: 0.1045 - val_loss: 0.2120\n",
      "Epoch 41/50\n",
      "49/49 [==============================] - 0s 4ms/step - loss: 0.1000 - val_loss: 0.2021\n",
      "Epoch 42/50\n",
      "49/49 [==============================] - 0s 4ms/step - loss: 0.0991 - val_loss: 0.2663\n",
      "Epoch 43/50\n",
      "49/49 [==============================] - 0s 4ms/step - loss: 0.0972 - val_loss: 0.2445\n",
      "Epoch 44/50\n",
      "49/49 [==============================] - 0s 4ms/step - loss: 0.0906 - val_loss: 0.2545\n",
      "Epoch 45/50\n",
      "49/49 [==============================] - 0s 4ms/step - loss: 0.1032 - val_loss: 0.2147\n",
      "Epoch 46/50\n",
      "49/49 [==============================] - 0s 4ms/step - loss: 0.0910 - val_loss: 0.2359\n",
      "Epoch 47/50\n",
      "49/49 [==============================] - 0s 4ms/step - loss: 0.0862 - val_loss: 0.2334\n",
      "Epoch 48/50\n",
      "49/49 [==============================] - 0s 4ms/step - loss: 0.0883 - val_loss: 0.2053\n",
      "Epoch 49/50\n",
      "49/49 [==============================] - 0s 4ms/step - loss: 0.0861 - val_loss: 0.3067\n",
      "Epoch 50/50\n",
      "49/49 [==============================] - 0s 4ms/step - loss: 0.0859 - val_loss: 0.2582\n"
     ]
    }
   ],
   "source": [
    "dnn_model.fit(training_data=(X_train, y_train), validation_data=(X_val, y_val), verbose=1)"
   ]
  },
  {
   "cell_type": "code",
   "execution_count": 15,
   "metadata": {
    "execution": {
     "iopub.execute_input": "2021-05-28T22:45:13.565257Z",
     "iopub.status.busy": "2021-05-28T22:45:13.564993Z",
     "iopub.status.idle": "2021-05-28T22:45:13.754359Z",
     "shell.execute_reply": "2021-05-28T22:45:13.753500Z",
     "shell.execute_reply.started": "2021-05-28T22:45:13.565230Z"
    }
   },
   "outputs": [
    {
     "data": {
      "image/png": "[encoded data removed]",
      "text/plain": [
       "<Figure size 600x400 with 1 Axes>"
      ]
     },
     "metadata": {
      "needs_background": "light"
     },
     "output_type": "display_data"
    }
   ],
   "source": [
    "dnn_model.plot_training()"
   ]
  },
  {
   "cell_type": "code",
   "execution_count": 16,
   "metadata": {
    "execution": {
     "iopub.execute_input": "2021-05-28T22:45:13.756142Z",
     "iopub.status.busy": "2021-05-28T22:45:13.755633Z",
     "iopub.status.idle": "2021-05-28T22:45:13.967650Z",
     "shell.execute_reply": "2021-05-28T22:45:13.966594Z",
     "shell.execute_reply.started": "2021-05-28T22:45:13.756091Z"
    }
   },
   "outputs": [
    {
     "name": "stdout",
     "output_type": "stream",
     "text": [
      "25/25 [==============================] - 0s 2ms/step - loss: 0.2680\n",
      "              precision    recall  f1-score   support\n",
      "\n",
      "           0       0.97      0.88      0.92        32\n",
      "           1       0.97      0.80      0.88        41\n",
      "           2       0.82      1.00      0.90        23\n",
      "           3       0.96      0.92      0.94        50\n",
      "           4       0.85      0.81      0.83        21\n",
      "           5       0.96      0.82      0.89        33\n",
      "           6       0.87      0.92      0.89        36\n",
      "           7       0.94      0.93      0.94        72\n",
      "           8       0.94      0.83      0.88        36\n",
      "           9       0.88      0.95      0.91        22\n",
      "          10       1.00      0.94      0.97        48\n",
      "          11       0.90      1.00      0.95        37\n",
      "          12       0.88      0.93      0.90        30\n",
      "          13       0.93      1.00      0.96        37\n",
      "          14       0.86      0.86      0.86        29\n",
      "          15       0.86      0.98      0.92        50\n",
      "          16       0.95      0.93      0.94        40\n",
      "          17       0.89      0.94      0.91        33\n",
      "          18       0.89      0.92      0.90        83\n",
      "          19       0.96      0.88      0.92        26\n",
      "\n",
      "    accuracy                           0.92       779\n",
      "   macro avg       0.91      0.91      0.91       779\n",
      "weighted avg       0.92      0.92      0.91       779\n",
      "\n"
     ]
    }
   ],
   "source": [
    "a, b, c = dnn_model.evaluation(test_data=(X_test, y_test))"
   ]
  },
  {
   "cell_type": "markdown",
   "metadata": {},
   "source": [
    "## Sequential Model"
   ]
  },
  {
   "cell_type": "code",
   "execution_count": 95,
   "metadata": {
    "execution": {
     "iopub.execute_input": "2021-05-29T01:39:18.602909Z",
     "iopub.status.busy": "2021-05-29T01:39:18.602582Z",
     "iopub.status.idle": "2021-05-29T01:39:18.617336Z",
     "shell.execute_reply": "2021-05-29T01:39:18.615033Z",
     "shell.execute_reply.started": "2021-05-29T01:39:18.602874Z"
    }
   },
   "outputs": [],
   "source": [
    "class RecurrentNetwork:\n",
    "     \"\"\"\n",
    "    A recurrent neural network class class to create custom RNN architecture which could be trained and evaluated\n",
    "    on any dataset.\n",
    "    \"\"\"\n",
    "    \n",
    "    def __init__(self, layer, epoch, batch_size, optimizer, loss, input_param, name, size):\n",
    "        \n",
    "        \"\"\"\n",
    "        Parameters\n",
    "        -----------\n",
    "        \n",
    "        layer: type of recurrent layer: SimpleRNN, LSTM, GRU\n",
    "        batch_size: size of a batch for training data\n",
    "        epochs:     number of epochs to train for\n",
    "        size:       list of output dimesnions for each layer\n",
    "        optimizer:  an optimizer algorithm could be optimizer object or string\n",
    "        loss:       loss function to be used for optimization\n",
    "        name:       name of the model\n",
    "        input_param: array of [maclen, max_words]\n",
    "        \"\"\"\n",
    "        \n",
    "        self.BATCH_SIZE = batch_size\n",
    "        self.EPOCH = epoch\n",
    "        self.history = None\n",
    "        self.loss = loss\n",
    "        \n",
    "        # Model Building\n",
    "        inputs = Input(name='inputs',shape=[input_param[0]])\n",
    "        emb = Embedding(input_param[1],500,input_length=input_param[0])(inputs)\n",
    "        x = emb\n",
    "        \n",
    "        n_layers = len(size)\n",
    "        \n",
    "        for i in range(n_layers-1):\n",
    "            x = layer(units = size[i], return_sequences = True, name='LSTM_layer_{}'.format(i+1))(x)\n",
    "        \n",
    "        x = layer(units = size[-1])(x)\n",
    "        x = Dense(200, activation='relu')(x)\n",
    "        out = Dense(20, activation='softmax')(x)\n",
    "        \n",
    "        self.model = Model(inputs = inputs, outputs = out, name = name)\n",
    "        self.model.compile(optimizer=optimizer, loss=self.loss)\n",
    "        \n",
    "    \n",
    "    def fit(self, training_data, validation_data, verbose, callbacks):\n",
    "        \"\"\"\n",
    "        Fits the model on training_data along with specified callbacks\n",
    "        \"\"\"\n",
    "        \n",
    "        self.history = self.model.fit(x=training_data[0], y=training_data[1],\n",
    "                                  validation_data = validation_data, epochs = self.EPOCH, batch_size = self.BATCH_SIZE,\n",
    "                                  verbose = verbose, callbacks=callbacks)\n",
    "        \n",
    "    def plot_training(self):\n",
    "        \"\"\"\n",
    "        Plots the progression of training and validation loss over the epochs\n",
    "        \"\"\"\n",
    "        \n",
    "        fig, ax = plt.subplots(1,1, dpi = 100)\n",
    "        ax.plot(self.history.history['loss'], label='Training Loss')\n",
    "        ax.plot(self.history.history['val_loss'], label='Validation Loss')\n",
    "        ax.set_xlabel('Epochs')\n",
    "        ax.set_ylabel(str(self.loss))\n",
    "        plt.legend()\n",
    "        plt.plot()\n",
    "        \n",
    "    def evaluation(self, test_data):\n",
    "        \"\"\"\n",
    "        Evaluates the resulting model on test data and prints relevant information\n",
    "        \"\"\"\n",
    "        \n",
    "        X_test = test_data[0]\n",
    "        y_test = test_data[1]\n",
    "        \n",
    "        y_pred_prob = self.model.predict(X_test)\n",
    "        y_pred = np.argmax(y_pred_prob, axis=1)\n",
    "        eval_metric = self.model.evaluate(x=X_test, y=y_test)\n",
    "        \n",
    "        print(classification_report(np.argmax(y_test, axis=1), y_pred))\n",
    "        \n",
    "        return (y_pred_prob, y_pred, eval_metric)\n",
    "    \n",
    "    def plot_model(self):\n",
    "        \"\"\"\n",
    "        Plots the model architecture\n",
    "        \"\"\"\n",
    "        \n",
    "        plot_model(self.model, to_file='recurrent.png', show_shapes=True)\n",
    "         "
   ]
  },
  {
   "cell_type": "code",
   "execution_count": 96,
   "metadata": {
    "execution": {
     "iopub.execute_input": "2021-05-29T01:39:19.755501Z",
     "iopub.status.busy": "2021-05-29T01:39:19.755182Z",
     "iopub.status.idle": "2021-05-29T01:39:19.759474Z",
     "shell.execute_reply": "2021-05-29T01:39:19.758475Z",
     "shell.execute_reply.started": "2021-05-29T01:39:19.755472Z"
    }
   },
   "outputs": [],
   "source": [
    "input_param = [maxlen, max_words]"
   ]
  },
  {
   "cell_type": "code",
   "execution_count": 105,
   "metadata": {
    "execution": {
     "iopub.execute_input": "2021-05-29T03:28:13.535428Z",
     "iopub.status.busy": "2021-05-29T03:28:13.535101Z",
     "iopub.status.idle": "2021-05-29T03:28:13.541219Z",
     "shell.execute_reply": "2021-05-29T03:28:13.540372Z",
     "shell.execute_reply.started": "2021-05-29T03:28:13.535395Z"
    }
   },
   "outputs": [],
   "source": [
    "seq_checkpoint = callbacks.ModelCheckpoint(filepath = 'lstm.hdf5', save_weights_only= True,\n",
    "                                                  save_best_only= True, monitor = 'val_loss', mode = 'min', verbose = 1)\n",
    "seq_early_stopping = callbacks.EarlyStopping(monitor = 'val_loss', patience = 5, verbose = 1, mode = 'min')\n",
    "reduce_lr = callbacks.ReduceLROnPlateau(monitor = 'val_loss', patience = 3, verbose = 1, mode = 'min', factor = 0.1)\n",
    "seq_callbacks = [seq_checkpoint, seq_early_stopping, reduce_lr]"
   ]
  },
  {
   "cell_type": "code",
   "execution_count": 107,
   "metadata": {
    "execution": {
     "iopub.execute_input": "2021-05-29T03:28:27.234827Z",
     "iopub.status.busy": "2021-05-29T03:28:27.234454Z",
     "iopub.status.idle": "2021-05-29T03:28:29.467635Z",
     "shell.execute_reply": "2021-05-29T03:28:29.465090Z",
     "shell.execute_reply.started": "2021-05-29T03:28:27.234789Z"
    }
   },
   "outputs": [],
   "source": [
    "# Deep LSTM Network\n",
    "optimizer = SGD(lr=0.1, momentum=0.9)\n",
    "lstm_rnn = RecurrentNetwork(layer = LSTM, epoch=100, batch_size=128, optimizer = optimizer, loss='categorical_crossentropy', \n",
    "                              input_param = input_param, name='LSTM_RNN', size = [1000, 500, 250])\n",
    "lstm_rnn.plot_model()"
   ]
  },
  {
   "cell_type": "code",
   "execution_count": 108,
   "metadata": {
    "execution": {
     "iopub.execute_input": "2021-05-29T03:28:31.359013Z",
     "iopub.status.busy": "2021-05-29T03:28:31.358641Z",
     "iopub.status.idle": "2021-05-29T03:28:31.368024Z",
     "shell.execute_reply": "2021-05-29T03:28:31.366965Z",
     "shell.execute_reply.started": "2021-05-29T03:28:31.358974Z"
    }
   },
   "outputs": [
    {
     "data": {
      "image/png": "[encoded data removed]",
      "text/plain": [
       "<IPython.core.display.Image object>"
      ]
     },
     "execution_count": 108,
     "metadata": {},
     "output_type": "execute_result"
    }
   ],
   "source": [
    "Image(filename='recurrent.png')"
   ]
  },
  {
   "cell_type": "code",
   "execution_count": 109,
   "metadata": {
    "execution": {
     "iopub.execute_input": "2021-05-29T03:28:35.211918Z",
     "iopub.status.busy": "2021-05-29T03:28:35.211585Z",
     "iopub.status.idle": "2021-05-29T04:00:11.616297Z",
     "shell.execute_reply": "2021-05-29T04:00:11.615517Z",
     "shell.execute_reply.started": "2021-05-29T03:28:35.211887Z"
    }
   },
   "outputs": [
    {
     "name": "stdout",
     "output_type": "stream",
     "text": [
      "Epoch 1/100\n",
      "49/49 [==============================] - 115s 2s/step - loss: 2.9533 - val_loss: 2.9072\n",
      "\n",
      "Epoch 00001: val_loss improved from inf to 2.90723, saving model to lstm.hdf5\n",
      "Epoch 2/100\n",
      "49/49 [==============================] - 111s 2s/step - loss: 2.9235 - val_loss: 2.9038\n",
      "\n",
      "Epoch 00002: val_loss improved from 2.90723 to 2.90375, saving model to lstm.hdf5\n",
      "Epoch 3/100\n",
      "49/49 [==============================] - 111s 2s/step - loss: 2.9218 - val_loss: 2.9072\n",
      "\n",
      "Epoch 00003: val_loss did not improve from 2.90375\n",
      "Epoch 4/100\n",
      "49/49 [==============================] - 111s 2s/step - loss: 2.9244 - val_loss: 2.9028\n",
      "\n",
      "Epoch 00004: val_loss improved from 2.90375 to 2.90284, saving model to lstm.hdf5\n",
      "Epoch 5/100\n",
      "49/49 [==============================] - 111s 2s/step - loss: 2.9228 - val_loss: 2.9030\n",
      "\n",
      "Epoch 00005: val_loss did not improve from 2.90284\n",
      "Epoch 6/100\n",
      "49/49 [==============================] - 111s 2s/step - loss: 2.9136 - val_loss: 2.9027\n",
      "\n",
      "Epoch 00006: val_loss improved from 2.90284 to 2.90272, saving model to lstm.hdf5\n",
      "Epoch 7/100\n",
      "49/49 [==============================] - 111s 2s/step - loss: 2.9126 - val_loss: 2.9042\n",
      "\n",
      "Epoch 00007: val_loss did not improve from 2.90272\n",
      "Epoch 8/100\n",
      "49/49 [==============================] - 111s 2s/step - loss: 2.9271 - val_loss: 2.9021\n",
      "\n",
      "Epoch 00008: val_loss improved from 2.90272 to 2.90207, saving model to lstm.hdf5\n",
      "Epoch 9/100\n",
      "49/49 [==============================] - 111s 2s/step - loss: 2.9319 - val_loss: 2.9014\n",
      "\n",
      "Epoch 00009: val_loss improved from 2.90207 to 2.90144, saving model to lstm.hdf5\n",
      "Epoch 10/100\n",
      "49/49 [==============================] - 111s 2s/step - loss: 2.9202 - val_loss: 2.9012\n",
      "\n",
      "Epoch 00010: val_loss improved from 2.90144 to 2.90116, saving model to lstm.hdf5\n",
      "Epoch 11/100\n",
      "49/49 [==============================] - 111s 2s/step - loss: 2.9143 - val_loss: 2.9014\n",
      "\n",
      "Epoch 00011: val_loss did not improve from 2.90116\n",
      "Epoch 12/100\n",
      "49/49 [==============================] - 111s 2s/step - loss: 2.9272 - val_loss: 2.9009\n",
      "\n",
      "Epoch 00012: val_loss improved from 2.90116 to 2.90091, saving model to lstm.hdf5\n",
      "Epoch 13/100\n",
      "49/49 [==============================] - 111s 2s/step - loss: 2.9176 - val_loss: 2.9032\n",
      "\n",
      "Epoch 00013: val_loss did not improve from 2.90091\n",
      "Epoch 14/100\n",
      "49/49 [==============================] - 111s 2s/step - loss: 2.9218 - val_loss: 2.9011\n",
      "\n",
      "Epoch 00014: val_loss did not improve from 2.90091\n",
      "Epoch 15/100\n",
      "49/49 [==============================] - 111s 2s/step - loss: 2.9199 - val_loss: 2.9032\n",
      "\n",
      "Epoch 00015: val_loss did not improve from 2.90091\n",
      "\n",
      "Epoch 00015: ReduceLROnPlateau reducing learning rate to 0.010000000149011612.\n",
      "Epoch 16/100\n",
      "49/49 [==============================] - 111s 2s/step - loss: 2.9179 - val_loss: 2.9050\n",
      "\n",
      "Epoch 00016: val_loss did not improve from 2.90091\n",
      "Epoch 17/100\n",
      "49/49 [==============================] - 111s 2s/step - loss: 2.9166 - val_loss: 2.9038\n",
      "\n",
      "Epoch 00017: val_loss did not improve from 2.90091\n",
      "Epoch 00017: early stopping\n"
     ]
    }
   ],
   "source": [
    "lstm_rnn.fit(training_data=(X_train, y_train), validation_data=(X_val, y_val), verbose=1, callbacks=seq_callbacks)"
   ]
  },
  {
   "cell_type": "code",
   "execution_count": 101,
   "metadata": {
    "execution": {
     "iopub.execute_input": "2021-05-29T02:23:22.448486Z",
     "iopub.status.busy": "2021-05-29T02:23:22.448116Z",
     "iopub.status.idle": "2021-05-29T02:23:22.608440Z",
     "shell.execute_reply": "2021-05-29T02:23:22.607495Z",
     "shell.execute_reply.started": "2021-05-29T02:23:22.448454Z"
    }
   },
   "outputs": [
    {
     "data": {
      "image/png": "[encoded data removed]",
      "text/plain": [
       "<Figure size 600x400 with 1 Axes>"
      ]
     },
     "metadata": {
      "needs_background": "light"
     },
     "output_type": "display_data"
    }
   ],
   "source": [
    "lstm_rnn.plot_training()"
   ]
  },
  {
   "cell_type": "code",
   "execution_count": 110,
   "metadata": {
    "execution": {
     "iopub.execute_input": "2021-05-29T04:01:07.526016Z",
     "iopub.status.busy": "2021-05-29T04:01:07.525614Z",
     "iopub.status.idle": "2021-05-29T05:56:10.777910Z",
     "shell.execute_reply": "2021-05-29T05:56:10.777022Z",
     "shell.execute_reply.started": "2021-05-29T04:01:07.525983Z"
    }
   },
   "outputs": [
    {
     "name": "stdout",
     "output_type": "stream",
     "text": [
      "Epoch 1/100\n",
      "49/49 [==============================] - 71s 1s/step - loss: 2.9980 - val_loss: 2.9975\n",
      "\n",
      "Epoch 00001: val_loss improved from inf to 2.99753, saving model to shallow_lstm.hdf5\n",
      "Epoch 2/100\n",
      "49/49 [==============================] - 69s 1s/step - loss: 2.9977 - val_loss: 2.9975\n",
      "\n",
      "Epoch 00002: val_loss improved from 2.99753 to 2.99753, saving model to shallow_lstm.hdf5\n",
      "Epoch 3/100\n",
      "49/49 [==============================] - 69s 1s/step - loss: 2.9978 - val_loss: 2.9975\n",
      "\n",
      "Epoch 00003: val_loss did not improve from 2.99753\n",
      "Epoch 4/100\n",
      "49/49 [==============================] - 69s 1s/step - loss: 2.9977 - val_loss: 2.9975\n",
      "\n",
      "Epoch 00004: val_loss improved from 2.99753 to 2.99753, saving model to shallow_lstm.hdf5\n",
      "Epoch 5/100\n",
      "49/49 [==============================] - 69s 1s/step - loss: 2.9977 - val_loss: 2.9975\n",
      "\n",
      "Epoch 00005: val_loss improved from 2.99753 to 2.99753, saving model to shallow_lstm.hdf5\n",
      "Epoch 6/100\n",
      "49/49 [==============================] - 69s 1s/step - loss: 2.9977 - val_loss: 2.9975\n",
      "\n",
      "Epoch 00006: val_loss improved from 2.99753 to 2.99753, saving model to shallow_lstm.hdf5\n",
      "Epoch 7/100\n",
      "49/49 [==============================] - 69s 1s/step - loss: 2.9975 - val_loss: 2.9975\n",
      "\n",
      "Epoch 00007: val_loss improved from 2.99753 to 2.99753, saving model to shallow_lstm.hdf5\n",
      "Epoch 8/100\n",
      "49/49 [==============================] - 69s 1s/step - loss: 2.9976 - val_loss: 2.9975\n",
      "\n",
      "Epoch 00008: val_loss improved from 2.99753 to 2.99753, saving model to shallow_lstm.hdf5\n",
      "Epoch 9/100\n",
      "49/49 [==============================] - 69s 1s/step - loss: 2.9975 - val_loss: 2.9975\n",
      "\n",
      "Epoch 00009: val_loss improved from 2.99753 to 2.99753, saving model to shallow_lstm.hdf5\n",
      "Epoch 10/100\n",
      "49/49 [==============================] - 69s 1s/step - loss: 2.9979 - val_loss: 2.9975\n",
      "\n",
      "Epoch 00010: val_loss improved from 2.99753 to 2.99753, saving model to shallow_lstm.hdf5\n",
      "Epoch 11/100\n",
      "49/49 [==============================] - 69s 1s/step - loss: 2.9977 - val_loss: 2.9975\n",
      "\n",
      "Epoch 00011: val_loss improved from 2.99753 to 2.99753, saving model to shallow_lstm.hdf5\n",
      "Epoch 12/100\n",
      "49/49 [==============================] - 69s 1s/step - loss: 2.9976 - val_loss: 2.9975\n",
      "\n",
      "Epoch 00012: val_loss improved from 2.99753 to 2.99752, saving model to shallow_lstm.hdf5\n",
      "Epoch 13/100\n",
      "49/49 [==============================] - 69s 1s/step - loss: 2.9976 - val_loss: 2.9975\n",
      "\n",
      "Epoch 00013: val_loss improved from 2.99752 to 2.99752, saving model to shallow_lstm.hdf5\n",
      "Epoch 14/100\n",
      "49/49 [==============================] - 69s 1s/step - loss: 2.9980 - val_loss: 2.9975\n",
      "\n",
      "Epoch 00014: val_loss improved from 2.99752 to 2.99752, saving model to shallow_lstm.hdf5\n",
      "Epoch 15/100\n",
      "49/49 [==============================] - 69s 1s/step - loss: 2.9980 - val_loss: 2.9975\n",
      "\n",
      "Epoch 00015: val_loss improved from 2.99752 to 2.99752, saving model to shallow_lstm.hdf5\n",
      "Epoch 16/100\n",
      "49/49 [==============================] - 69s 1s/step - loss: 2.9977 - val_loss: 2.9975\n",
      "\n",
      "Epoch 00016: val_loss improved from 2.99752 to 2.99752, saving model to shallow_lstm.hdf5\n",
      "Epoch 17/100\n",
      "49/49 [==============================] - 69s 1s/step - loss: 2.9980 - val_loss: 2.9975\n",
      "\n",
      "Epoch 00017: val_loss improved from 2.99752 to 2.99752, saving model to shallow_lstm.hdf5\n",
      "Epoch 18/100\n",
      "49/49 [==============================] - 69s 1s/step - loss: 2.9977 - val_loss: 2.9975\n",
      "\n",
      "Epoch 00018: val_loss improved from 2.99752 to 2.99752, saving model to shallow_lstm.hdf5\n",
      "Epoch 19/100\n",
      "49/49 [==============================] - 69s 1s/step - loss: 2.9978 - val_loss: 2.9975\n",
      "\n",
      "Epoch 00019: val_loss improved from 2.99752 to 2.99752, saving model to shallow_lstm.hdf5\n",
      "Epoch 20/100\n",
      "49/49 [==============================] - 69s 1s/step - loss: 2.9980 - val_loss: 2.9975\n",
      "\n",
      "Epoch 00020: val_loss improved from 2.99752 to 2.99751, saving model to shallow_lstm.hdf5\n",
      "Epoch 21/100\n",
      "49/49 [==============================] - 69s 1s/step - loss: 2.9977 - val_loss: 2.9975\n",
      "\n",
      "Epoch 00021: val_loss improved from 2.99751 to 2.99751, saving model to shallow_lstm.hdf5\n",
      "Epoch 22/100\n",
      "49/49 [==============================] - 69s 1s/step - loss: 2.9977 - val_loss: 2.9975\n",
      "\n",
      "Epoch 00022: val_loss improved from 2.99751 to 2.99751, saving model to shallow_lstm.hdf5\n",
      "Epoch 23/100\n",
      "49/49 [==============================] - 69s 1s/step - loss: 2.9978 - val_loss: 2.9975\n",
      "\n",
      "Epoch 00023: val_loss improved from 2.99751 to 2.99751, saving model to shallow_lstm.hdf5\n",
      "Epoch 24/100\n",
      "49/49 [==============================] - 69s 1s/step - loss: 2.9976 - val_loss: 2.9975\n",
      "\n",
      "Epoch 00024: val_loss improved from 2.99751 to 2.99750, saving model to shallow_lstm.hdf5\n",
      "Epoch 25/100\n",
      "49/49 [==============================] - 69s 1s/step - loss: 2.9978 - val_loss: 2.9975\n",
      "\n",
      "Epoch 00025: val_loss improved from 2.99750 to 2.99750, saving model to shallow_lstm.hdf5\n",
      "Epoch 26/100\n",
      "49/49 [==============================] - 69s 1s/step - loss: 2.9977 - val_loss: 2.9975\n",
      "\n",
      "Epoch 00026: val_loss improved from 2.99750 to 2.99750, saving model to shallow_lstm.hdf5\n",
      "Epoch 27/100\n",
      "49/49 [==============================] - 69s 1s/step - loss: 2.9974 - val_loss: 2.9975\n",
      "\n",
      "Epoch 00027: val_loss improved from 2.99750 to 2.99749, saving model to shallow_lstm.hdf5\n",
      "Epoch 28/100\n",
      "49/49 [==============================] - 69s 1s/step - loss: 2.9976 - val_loss: 2.9975\n",
      "\n",
      "Epoch 00028: val_loss improved from 2.99749 to 2.99749, saving model to shallow_lstm.hdf5\n",
      "Epoch 29/100\n",
      "49/49 [==============================] - 69s 1s/step - loss: 2.9977 - val_loss: 2.9975\n",
      "\n",
      "Epoch 00029: val_loss improved from 2.99749 to 2.99748, saving model to shallow_lstm.hdf5\n",
      "Epoch 30/100\n",
      "49/49 [==============================] - 69s 1s/step - loss: 2.9977 - val_loss: 2.9975\n",
      "\n",
      "Epoch 00030: val_loss improved from 2.99748 to 2.99748, saving model to shallow_lstm.hdf5\n",
      "Epoch 31/100\n",
      "49/49 [==============================] - 69s 1s/step - loss: 2.9976 - val_loss: 2.9975\n",
      "\n",
      "Epoch 00031: val_loss improved from 2.99748 to 2.99747, saving model to shallow_lstm.hdf5\n",
      "Epoch 32/100\n",
      "49/49 [==============================] - 69s 1s/step - loss: 2.9977 - val_loss: 2.9975\n",
      "\n",
      "Epoch 00032: val_loss improved from 2.99747 to 2.99746, saving model to shallow_lstm.hdf5\n",
      "Epoch 33/100\n",
      "49/49 [==============================] - 69s 1s/step - loss: 2.9975 - val_loss: 2.9974\n",
      "\n",
      "Epoch 00033: val_loss improved from 2.99746 to 2.99745, saving model to shallow_lstm.hdf5\n",
      "Epoch 34/100\n",
      "49/49 [==============================] - 69s 1s/step - loss: 2.9978 - val_loss: 2.9974\n",
      "\n",
      "Epoch 00034: val_loss improved from 2.99745 to 2.99744, saving model to shallow_lstm.hdf5\n",
      "Epoch 35/100\n",
      "49/49 [==============================] - 69s 1s/step - loss: 2.9977 - val_loss: 2.9974\n",
      "\n",
      "Epoch 00035: val_loss improved from 2.99744 to 2.99743, saving model to shallow_lstm.hdf5\n",
      "Epoch 36/100\n",
      "49/49 [==============================] - 69s 1s/step - loss: 2.9976 - val_loss: 2.9974\n",
      "\n",
      "Epoch 00036: val_loss improved from 2.99743 to 2.99741, saving model to shallow_lstm.hdf5\n",
      "Epoch 37/100\n",
      "49/49 [==============================] - 69s 1s/step - loss: 2.9977 - val_loss: 2.9974\n",
      "\n",
      "Epoch 00037: val_loss improved from 2.99741 to 2.99740, saving model to shallow_lstm.hdf5\n",
      "Epoch 38/100\n",
      "49/49 [==============================] - 69s 1s/step - loss: 2.9973 - val_loss: 2.9974\n",
      "\n",
      "Epoch 00038: val_loss improved from 2.99740 to 2.99738, saving model to shallow_lstm.hdf5\n",
      "Epoch 39/100\n",
      "49/49 [==============================] - 69s 1s/step - loss: 2.9975 - val_loss: 2.9974\n",
      "\n",
      "Epoch 00039: val_loss improved from 2.99738 to 2.99736, saving model to shallow_lstm.hdf5\n",
      "Epoch 40/100\n",
      "49/49 [==============================] - 69s 1s/step - loss: 2.9976 - val_loss: 2.9973\n",
      "\n",
      "Epoch 00040: val_loss improved from 2.99736 to 2.99734, saving model to shallow_lstm.hdf5\n",
      "Epoch 41/100\n",
      "49/49 [==============================] - 69s 1s/step - loss: 2.9976 - val_loss: 2.9973\n",
      "\n",
      "Epoch 00041: val_loss improved from 2.99734 to 2.99731, saving model to shallow_lstm.hdf5\n",
      "Epoch 42/100\n",
      "49/49 [==============================] - 69s 1s/step - loss: 2.9976 - val_loss: 2.9973\n",
      "\n",
      "Epoch 00042: val_loss improved from 2.99731 to 2.99728, saving model to shallow_lstm.hdf5\n",
      "Epoch 43/100\n",
      "49/49 [==============================] - 69s 1s/step - loss: 2.9974 - val_loss: 2.9972\n",
      "\n",
      "Epoch 00043: val_loss improved from 2.99728 to 2.99725, saving model to shallow_lstm.hdf5\n",
      "Epoch 44/100\n",
      "49/49 [==============================] - 69s 1s/step - loss: 2.9976 - val_loss: 2.9972\n",
      "\n",
      "Epoch 00044: val_loss improved from 2.99725 to 2.99721, saving model to shallow_lstm.hdf5\n",
      "Epoch 45/100\n",
      "49/49 [==============================] - 69s 1s/step - loss: 2.9973 - val_loss: 2.9972\n",
      "\n",
      "Epoch 00045: val_loss improved from 2.99721 to 2.99717, saving model to shallow_lstm.hdf5\n",
      "Epoch 46/100\n",
      "49/49 [==============================] - 69s 1s/step - loss: 2.9975 - val_loss: 2.9971\n",
      "\n",
      "Epoch 00046: val_loss improved from 2.99717 to 2.99712, saving model to shallow_lstm.hdf5\n",
      "Epoch 47/100\n",
      "49/49 [==============================] - 69s 1s/step - loss: 2.9975 - val_loss: 2.9971\n",
      "\n",
      "Epoch 00047: val_loss improved from 2.99712 to 2.99707, saving model to shallow_lstm.hdf5\n",
      "Epoch 48/100\n",
      "49/49 [==============================] - 69s 1s/step - loss: 2.9973 - val_loss: 2.9970\n",
      "\n",
      "Epoch 00048: val_loss improved from 2.99707 to 2.99701, saving model to shallow_lstm.hdf5\n",
      "Epoch 49/100\n",
      "49/49 [==============================] - 69s 1s/step - loss: 2.9972 - val_loss: 2.9969\n",
      "\n",
      "Epoch 00049: val_loss improved from 2.99701 to 2.99695, saving model to shallow_lstm.hdf5\n",
      "Epoch 50/100\n",
      "49/49 [==============================] - 69s 1s/step - loss: 2.9973 - val_loss: 2.9969\n",
      "\n",
      "Epoch 00050: val_loss improved from 2.99695 to 2.99687, saving model to shallow_lstm.hdf5\n",
      "Epoch 51/100\n",
      "49/49 [==============================] - 69s 1s/step - loss: 2.9968 - val_loss: 2.9968\n",
      "\n",
      "Epoch 00051: val_loss improved from 2.99687 to 2.99679, saving model to shallow_lstm.hdf5\n",
      "Epoch 52/100\n",
      "49/49 [==============================] - 69s 1s/step - loss: 2.9971 - val_loss: 2.9967\n",
      "\n",
      "Epoch 00052: val_loss improved from 2.99679 to 2.99669, saving model to shallow_lstm.hdf5\n",
      "Epoch 53/100\n",
      "49/49 [==============================] - 69s 1s/step - loss: 2.9971 - val_loss: 2.9966\n",
      "\n",
      "Epoch 00053: val_loss improved from 2.99669 to 2.99659, saving model to shallow_lstm.hdf5\n",
      "Epoch 54/100\n",
      "49/49 [==============================] - 69s 1s/step - loss: 2.9969 - val_loss: 2.9965\n",
      "\n",
      "Epoch 00054: val_loss improved from 2.99659 to 2.99648, saving model to shallow_lstm.hdf5\n",
      "Epoch 55/100\n",
      "49/49 [==============================] - 69s 1s/step - loss: 2.9969 - val_loss: 2.9963\n",
      "\n",
      "Epoch 00055: val_loss improved from 2.99648 to 2.99635, saving model to shallow_lstm.hdf5\n",
      "Epoch 56/100\n",
      "49/49 [==============================] - 69s 1s/step - loss: 2.9967 - val_loss: 2.9962\n",
      "\n",
      "Epoch 00056: val_loss improved from 2.99635 to 2.99621, saving model to shallow_lstm.hdf5\n",
      "Epoch 57/100\n",
      "49/49 [==============================] - 69s 1s/step - loss: 2.9966 - val_loss: 2.9960\n",
      "\n",
      "Epoch 00057: val_loss improved from 2.99621 to 2.99605, saving model to shallow_lstm.hdf5\n",
      "Epoch 58/100\n",
      "49/49 [==============================] - 69s 1s/step - loss: 2.9963 - val_loss: 2.9959\n",
      "\n",
      "Epoch 00058: val_loss improved from 2.99605 to 2.99587, saving model to shallow_lstm.hdf5\n",
      "Epoch 59/100\n",
      "49/49 [==============================] - 69s 1s/step - loss: 2.9965 - val_loss: 2.9957\n",
      "\n",
      "Epoch 00059: val_loss improved from 2.99587 to 2.99567, saving model to shallow_lstm.hdf5\n",
      "Epoch 60/100\n",
      "49/49 [==============================] - 69s 1s/step - loss: 2.9962 - val_loss: 2.9954\n",
      "\n",
      "Epoch 00060: val_loss improved from 2.99567 to 2.99545, saving model to shallow_lstm.hdf5\n",
      "Epoch 61/100\n",
      "49/49 [==============================] - 69s 1s/step - loss: 2.9956 - val_loss: 2.9952\n",
      "\n",
      "Epoch 00061: val_loss improved from 2.99545 to 2.99520, saving model to shallow_lstm.hdf5\n",
      "Epoch 62/100\n",
      "49/49 [==============================] - 69s 1s/step - loss: 2.9959 - val_loss: 2.9949\n",
      "\n",
      "Epoch 00062: val_loss improved from 2.99520 to 2.99492, saving model to shallow_lstm.hdf5\n",
      "Epoch 63/100\n",
      "49/49 [==============================] - 69s 1s/step - loss: 2.9955 - val_loss: 2.9946\n",
      "\n",
      "Epoch 00063: val_loss improved from 2.99492 to 2.99461, saving model to shallow_lstm.hdf5\n",
      "Epoch 64/100\n",
      "49/49 [==============================] - 69s 1s/step - loss: 2.9950 - val_loss: 2.9943\n",
      "\n",
      "Epoch 00064: val_loss improved from 2.99461 to 2.99427, saving model to shallow_lstm.hdf5\n",
      "Epoch 65/100\n",
      "49/49 [==============================] - 69s 1s/step - loss: 2.9946 - val_loss: 2.9939\n",
      "\n",
      "Epoch 00065: val_loss improved from 2.99427 to 2.99388, saving model to shallow_lstm.hdf5\n",
      "Epoch 66/100\n",
      "49/49 [==============================] - 69s 1s/step - loss: 2.9944 - val_loss: 2.9935\n",
      "\n",
      "Epoch 00066: val_loss improved from 2.99388 to 2.99346, saving model to shallow_lstm.hdf5\n",
      "Epoch 67/100\n",
      "49/49 [==============================] - 69s 1s/step - loss: 2.9941 - val_loss: 2.9930\n",
      "\n",
      "Epoch 00067: val_loss improved from 2.99346 to 2.99299, saving model to shallow_lstm.hdf5\n",
      "Epoch 68/100\n",
      "49/49 [==============================] - 69s 1s/step - loss: 2.9935 - val_loss: 2.9925\n",
      "\n",
      "Epoch 00068: val_loss improved from 2.99299 to 2.99245, saving model to shallow_lstm.hdf5\n",
      "Epoch 69/100\n",
      "49/49 [==============================] - 69s 1s/step - loss: 2.9933 - val_loss: 2.9919\n",
      "\n",
      "Epoch 00069: val_loss improved from 2.99245 to 2.99189, saving model to shallow_lstm.hdf5\n",
      "Epoch 70/100\n",
      "49/49 [==============================] - 69s 1s/step - loss: 2.9926 - val_loss: 2.9912\n",
      "\n",
      "Epoch 00070: val_loss improved from 2.99189 to 2.99123, saving model to shallow_lstm.hdf5\n",
      "Epoch 71/100\n",
      "49/49 [==============================] - 69s 1s/step - loss: 2.9925 - val_loss: 2.9905\n",
      "\n",
      "Epoch 00071: val_loss improved from 2.99123 to 2.99054, saving model to shallow_lstm.hdf5\n",
      "Epoch 72/100\n",
      "49/49 [==============================] - 69s 1s/step - loss: 2.9915 - val_loss: 2.9898\n",
      "\n",
      "Epoch 00072: val_loss improved from 2.99054 to 2.98976, saving model to shallow_lstm.hdf5\n",
      "Epoch 73/100\n",
      "49/49 [==============================] - 69s 1s/step - loss: 2.9910 - val_loss: 2.9889\n",
      "\n",
      "Epoch 00073: val_loss improved from 2.98976 to 2.98893, saving model to shallow_lstm.hdf5\n",
      "Epoch 74/100\n",
      "49/49 [==============================] - 69s 1s/step - loss: 2.9904 - val_loss: 2.9880\n",
      "\n",
      "Epoch 00074: val_loss improved from 2.98893 to 2.98804, saving model to shallow_lstm.hdf5\n",
      "Epoch 75/100\n",
      "49/49 [==============================] - 69s 1s/step - loss: 2.9895 - val_loss: 2.9870\n",
      "\n",
      "Epoch 00075: val_loss improved from 2.98804 to 2.98704, saving model to shallow_lstm.hdf5\n",
      "Epoch 76/100\n",
      "49/49 [==============================] - 69s 1s/step - loss: 2.9884 - val_loss: 2.9860\n",
      "\n",
      "Epoch 00076: val_loss improved from 2.98704 to 2.98596, saving model to shallow_lstm.hdf5\n",
      "Epoch 77/100\n",
      "49/49 [==============================] - 69s 1s/step - loss: 2.9874 - val_loss: 2.9847\n",
      "\n",
      "Epoch 00077: val_loss improved from 2.98596 to 2.98472, saving model to shallow_lstm.hdf5\n",
      "Epoch 78/100\n",
      "49/49 [==============================] - 69s 1s/step - loss: 2.9867 - val_loss: 2.9834\n",
      "\n",
      "Epoch 00078: val_loss improved from 2.98472 to 2.98343, saving model to shallow_lstm.hdf5\n",
      "Epoch 79/100\n",
      "49/49 [==============================] - 69s 1s/step - loss: 2.9852 - val_loss: 2.9820\n",
      "\n",
      "Epoch 00079: val_loss improved from 2.98343 to 2.98202, saving model to shallow_lstm.hdf5\n",
      "Epoch 80/100\n",
      "49/49 [==============================] - 69s 1s/step - loss: 2.9828 - val_loss: 2.9804\n",
      "\n",
      "Epoch 00080: val_loss improved from 2.98202 to 2.98045, saving model to shallow_lstm.hdf5\n",
      "Epoch 81/100\n",
      "49/49 [==============================] - 69s 1s/step - loss: 2.9820 - val_loss: 2.9789\n",
      "\n",
      "Epoch 00081: val_loss improved from 2.98045 to 2.97891, saving model to shallow_lstm.hdf5\n",
      "Epoch 82/100\n",
      "49/49 [==============================] - 69s 1s/step - loss: 2.9817 - val_loss: 2.9773\n",
      "\n",
      "Epoch 00082: val_loss improved from 2.97891 to 2.97727, saving model to shallow_lstm.hdf5\n",
      "Epoch 83/100\n",
      "49/49 [==============================] - 69s 1s/step - loss: 2.9783 - val_loss: 2.9754\n",
      "\n",
      "Epoch 00083: val_loss improved from 2.97727 to 2.97542, saving model to shallow_lstm.hdf5\n",
      "Epoch 84/100\n",
      "49/49 [==============================] - 69s 1s/step - loss: 2.9777 - val_loss: 2.9735\n",
      "\n",
      "Epoch 00084: val_loss improved from 2.97542 to 2.97348, saving model to shallow_lstm.hdf5\n",
      "Epoch 85/100\n",
      "49/49 [==============================] - 69s 1s/step - loss: 2.9764 - val_loss: 2.9713\n",
      "\n",
      "Epoch 00085: val_loss improved from 2.97348 to 2.97135, saving model to shallow_lstm.hdf5\n",
      "Epoch 86/100\n",
      "49/49 [==============================] - 69s 1s/step - loss: 2.9734 - val_loss: 2.9690\n",
      "\n",
      "Epoch 00086: val_loss improved from 2.97135 to 2.96897, saving model to shallow_lstm.hdf5\n",
      "Epoch 87/100\n",
      "49/49 [==============================] - 69s 1s/step - loss: 2.9720 - val_loss: 2.9663\n",
      "\n",
      "Epoch 00087: val_loss improved from 2.96897 to 2.96635, saving model to shallow_lstm.hdf5\n",
      "Epoch 88/100\n",
      "49/49 [==============================] - 69s 1s/step - loss: 2.9712 - val_loss: 2.9635\n",
      "\n",
      "Epoch 00088: val_loss improved from 2.96635 to 2.96346, saving model to shallow_lstm.hdf5\n",
      "Epoch 89/100\n",
      "49/49 [==============================] - 69s 1s/step - loss: 2.9678 - val_loss: 2.9601\n",
      "\n",
      "Epoch 00089: val_loss improved from 2.96346 to 2.96014, saving model to shallow_lstm.hdf5\n",
      "Epoch 90/100\n",
      "49/49 [==============================] - 69s 1s/step - loss: 2.9638 - val_loss: 2.9566\n",
      "\n",
      "Epoch 00090: val_loss improved from 2.96014 to 2.95656, saving model to shallow_lstm.hdf5\n",
      "Epoch 91/100\n",
      "49/49 [==============================] - 69s 1s/step - loss: 2.9610 - val_loss: 2.9525\n",
      "\n",
      "Epoch 00091: val_loss improved from 2.95656 to 2.95250, saving model to shallow_lstm.hdf5\n",
      "Epoch 92/100\n",
      "49/49 [==============================] - 69s 1s/step - loss: 2.9558 - val_loss: 2.9480\n",
      "\n",
      "Epoch 00092: val_loss improved from 2.95250 to 2.94799, saving model to shallow_lstm.hdf5\n",
      "Epoch 93/100\n",
      "49/49 [==============================] - 69s 1s/step - loss: 2.9508 - val_loss: 2.9432\n",
      "\n",
      "Epoch 00093: val_loss improved from 2.94799 to 2.94318, saving model to shallow_lstm.hdf5\n",
      "Epoch 94/100\n",
      "49/49 [==============================] - 69s 1s/step - loss: 2.9529 - val_loss: 2.9382\n",
      "\n",
      "Epoch 00094: val_loss improved from 2.94318 to 2.93818, saving model to shallow_lstm.hdf5\n",
      "Epoch 95/100\n",
      "49/49 [==============================] - 69s 1s/step - loss: 2.9433 - val_loss: 2.9327\n",
      "\n",
      "Epoch 00095: val_loss improved from 2.93818 to 2.93272, saving model to shallow_lstm.hdf5\n",
      "Epoch 96/100\n",
      "49/49 [==============================] - 69s 1s/step - loss: 2.9421 - val_loss: 2.9275\n",
      "\n",
      "Epoch 00096: val_loss improved from 2.93272 to 2.92753, saving model to shallow_lstm.hdf5\n",
      "Epoch 97/100\n",
      "49/49 [==============================] - 69s 1s/step - loss: 2.9389 - val_loss: 2.9221\n",
      "\n",
      "Epoch 00097: val_loss improved from 2.92753 to 2.92210, saving model to shallow_lstm.hdf5\n",
      "Epoch 98/100\n",
      "49/49 [==============================] - 69s 1s/step - loss: 2.9321 - val_loss: 2.9169\n",
      "\n",
      "Epoch 00098: val_loss improved from 2.92210 to 2.91692, saving model to shallow_lstm.hdf5\n",
      "Epoch 99/100\n",
      "49/49 [==============================] - 69s 1s/step - loss: 2.9244 - val_loss: 2.9123\n",
      "\n",
      "Epoch 00099: val_loss improved from 2.91692 to 2.91232, saving model to shallow_lstm.hdf5\n",
      "Epoch 100/100\n",
      "49/49 [==============================] - 69s 1s/step - loss: 2.9316 - val_loss: 2.9084\n",
      "\n",
      "Epoch 00100: val_loss improved from 2.91232 to 2.90842, saving model to shallow_lstm.hdf5\n"
     ]
    }
   ],
   "source": [
    "# Shallow LSTM network\n",
    "seq_checkpoint = callbacks.ModelCheckpoint(filepath = 'shallow_lstm.hdf5', save_weights_only= True,\n",
    "                                                  save_best_only= True, monitor = 'val_loss', mode = 'min', verbose = 1)\n",
    "shallow_seq_callbacks = [seq_checkpoint, seq_early_stopping, lr_scheduler]\n",
    "\n",
    "shallow_lstm = RecurrentNetwork(layer = LSTM, epoch=100, batch_size=128, optimizer = optimizer, loss='categorical_crossentropy', \n",
    "                              input_param = input_param, name='LSTM_RNN', size = [1000])\n",
    "\n",
    "shallow_lstm.fit(training_data=(X_train, y_train), validation_data=(X_val, y_val), verbose=1, callbacks=shallow_seq_callbacks)"
   ]
  },
  {
   "cell_type": "code",
   "execution_count": 113,
   "metadata": {
    "execution": {
     "iopub.execute_input": "2021-05-29T05:58:59.006379Z",
     "iopub.status.busy": "2021-05-29T05:58:59.006051Z",
     "iopub.status.idle": "2021-05-29T05:58:59.168459Z",
     "shell.execute_reply": "2021-05-29T05:58:59.167486Z",
     "shell.execute_reply.started": "2021-05-29T05:58:59.006345Z"
    }
   },
   "outputs": [
    {
     "data": {
      "image/png": "[encoded data removed]",
      "text/plain": [
       "<IPython.core.display.Image object>"
      ]
     },
     "execution_count": 113,
     "metadata": {},
     "output_type": "execute_result"
    }
   ],
   "source": [
    "shallow_lstm.plot_model()\n",
    "Image(filename='recurrent.png')\n"
   ]
  },
  {
   "cell_type": "code",
   "execution_count": 111,
   "metadata": {
    "execution": {
     "iopub.execute_input": "2021-05-29T05:56:34.076214Z",
     "iopub.status.busy": "2021-05-29T05:56:34.075892Z",
     "iopub.status.idle": "2021-05-29T05:56:34.221073Z",
     "shell.execute_reply": "2021-05-29T05:56:34.220129Z",
     "shell.execute_reply.started": "2021-05-29T05:56:34.076185Z"
    }
   },
   "outputs": [
    {
     "data": {
      "image/png": "[encoded data removed]",
      "text/plain": [
       "<Figure size 600x400 with 1 Axes>"
      ]
     },
     "metadata": {
      "needs_background": "light"
     },
     "output_type": "display_data"
    }
   ],
   "source": [
    "shallow_lstm.plot_training()"
   ]
  },
  {
   "cell_type": "code",
   "execution_count": 114,
   "metadata": {
    "execution": {
     "iopub.execute_input": "2021-05-29T06:00:42.890299Z",
     "iopub.status.busy": "2021-05-29T06:00:42.889970Z",
     "iopub.status.idle": "2021-05-29T06:08:45.736465Z",
     "shell.execute_reply": "2021-05-29T06:08:45.735449Z",
     "shell.execute_reply.started": "2021-05-29T06:00:42.890263Z"
    }
   },
   "outputs": [
    {
     "name": "stdout",
     "output_type": "stream",
     "text": [
      "Epoch 1/100\n",
      "49/49 [==============================] - 69s 1s/step - loss: 2.9231 - val_loss: 2.9078\n",
      "\n",
      "Epoch 00001: val_loss improved from 2.90842 to 2.90777, saving model to shallow_lstm.hdf5\n",
      "Epoch 2/100\n",
      "49/49 [==============================] - 69s 1s/step - loss: 2.9230 - val_loss: 2.9078\n",
      "\n",
      "Epoch 00002: val_loss improved from 2.90777 to 2.90777, saving model to shallow_lstm.hdf5\n",
      "Epoch 3/100\n",
      "49/49 [==============================] - 69s 1s/step - loss: 2.9230 - val_loss: 2.9078\n",
      "\n",
      "Epoch 00003: val_loss did not improve from 2.90777\n",
      "Epoch 4/100\n",
      "49/49 [==============================] - 69s 1s/step - loss: 2.9230 - val_loss: 2.9078\n",
      "\n",
      "Epoch 00004: val_loss did not improve from 2.90777\n",
      "Epoch 5/100\n",
      "49/49 [==============================] - 69s 1s/step - loss: 2.9230 - val_loss: 2.9078\n",
      "\n",
      "Epoch 00005: val_loss did not improve from 2.90777\n",
      "Epoch 6/100\n",
      "49/49 [==============================] - 69s 1s/step - loss: 2.9230 - val_loss: 2.9078\n",
      "\n",
      "Epoch 00006: val_loss did not improve from 2.90777\n",
      "Epoch 7/100\n",
      "49/49 [==============================] - 69s 1s/step - loss: 2.9230 - val_loss: 2.9078\n",
      "\n",
      "Epoch 00007: val_loss did not improve from 2.90777\n",
      "Epoch 00007: early stopping\n"
     ]
    }
   ],
   "source": [
    "# Training it for another 100 iterations\n",
    "shallow_lstm.fit(training_data=(X_train, y_train), validation_data=(X_val, y_val), verbose=1, callbacks=shallow_seq_callbacks)"
   ]
  },
  {
   "cell_type": "code",
   "execution_count": null,
   "metadata": {},
   "outputs": [],
   "source": []
  }
 ],
 "metadata": {
  "kernelspec": {
   "display_name": "Python 3",
   "language": "python",
   "name": "python3"
  },
  "language_info": {
   "codemirror_mode": {
    "name": "ipython",
    "version": 3
   },
   "file_extension": ".py",
   "mimetype": "text/x-python",
   "name": "python",
   "nbconvert_exporter": "python",
   "pygments_lexer": "ipython3",
   "version": "3.7.4"
  }
 },
 "nbformat": 4,
 "nbformat_minor": 4
}
